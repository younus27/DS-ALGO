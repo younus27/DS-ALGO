{
 "cells": [
  {
   "cell_type": "markdown",
   "metadata": {},
   "source": [
    "### 0 / 1 Knapsack"
   ]
  },
  {
   "cell_type": "code",
   "execution_count": 20,
   "metadata": {},
   "outputs": [],
   "source": [
    "wt  = [1,3,4,5]\n",
    "val = [1,4,5,7] \n",
    "w = 7"
   ]
  },
  {
   "cell_type": "markdown",
   "metadata": {},
   "source": [
    "### Recursive"
   ]
  },
  {
   "cell_type": "raw",
   "metadata": {},
   "source": [
    "smallest valid input:\n",
    "n = 0\n",
    "w = 0\n",
    "\n",
    "Base condition:\n",
    "    \n",
    "if n==0 or w==0:\n",
    "    return 0\n",
    "    \n",
    "Recursive Func\n",
    "\n",
    "if current weight is greater than W [Leave]\n",
    "if current weight is less than W either [Take] or [Leave]\n",
    "\n",
    "if we include - add the price and decrement the weight and choose from rest\n",
    "if we do not include - choose from rest\n",
    "\n",
    "if we include     - return knapsack(wt, val[n-1]+val,w-wt[n-1],n-1)\n",
    "if do not include - return knapsack(wt,val,w,n-1)"
   ]
  },
  {
   "cell_type": "code",
   "execution_count": 23,
   "metadata": {},
   "outputs": [],
   "source": [
    "def knapsack(wt, val, w, n):\n",
    "    if n==0 or w==0:\n",
    "        return 0\n",
    "    if wt[n-1] <= w:\n",
    "        return max(val[n-1]+knapsack(wt,val,w-wt[n-1],n-1) , knapsack(wt,val,w,n-1) )\n",
    "    else:\n",
    "        return knapsack(wt,val,w,n-1)"
   ]
  },
  {
   "cell_type": "code",
   "execution_count": 22,
   "metadata": {},
   "outputs": [
    {
     "data": {
      "text/plain": [
       "9"
      ]
     },
     "execution_count": 22,
     "metadata": {},
     "output_type": "execute_result"
    }
   ],
   "source": [
    "knapsack(wt, val, w, len(val))"
   ]
  },
  {
   "cell_type": "markdown",
   "metadata": {},
   "source": [
    "### Memoization"
   ]
  },
  {
   "cell_type": "code",
   "execution_count": 250,
   "metadata": {},
   "outputs": [],
   "source": [
    "wt  = [1,3,4,5]\n",
    "val = [1,4,5,7] \n",
    "w = 7"
   ]
  },
  {
   "cell_type": "code",
   "execution_count": 251,
   "metadata": {},
   "outputs": [],
   "source": [
    "t = [[-1]*(w+1) for i in range((len(wt)+1))]\n",
    "# t[0][0]=0"
   ]
  },
  {
   "cell_type": "code",
   "execution_count": 254,
   "metadata": {},
   "outputs": [],
   "source": [
    "def knapsack(wt, val, w, n):\n",
    "    if n==0 or w==0:\n",
    "        return 0\n",
    "    if t[n][w] != -1:\n",
    "        return t[n][w]\n",
    "    if wt[n-1] <= w:\n",
    "        t[n][w] = max(val[n-1]+knapsack(wt,val,w-wt[n-1],n-1) , knapsack(wt,val,w,n-1) )\n",
    "        return t[n][w]\n",
    "    else:\n",
    "        t[n][w] = knapsack(wt,val,w,n-1)\n",
    "        return t[n][w]"
   ]
  },
  {
   "cell_type": "code",
   "execution_count": 255,
   "metadata": {},
   "outputs": [
    {
     "data": {
      "text/plain": [
       "9"
      ]
     },
     "execution_count": 255,
     "metadata": {},
     "output_type": "execute_result"
    }
   ],
   "source": [
    "knapsack(wt, val, w, len(val))"
   ]
  },
  {
   "cell_type": "markdown",
   "metadata": {},
   "source": [
    "### Top-down"
   ]
  },
  {
   "cell_type": "code",
   "execution_count": 256,
   "metadata": {},
   "outputs": [],
   "source": [
    "wt  = [1,3,4,5]\n",
    "val = [1,4,5,7] \n",
    "w = 7\n",
    "n=len(wt)"
   ]
  },
  {
   "cell_type": "raw",
   "metadata": {},
   "source": [
    "for i in range(n+1):\n",
    "if wt[n-1] <= w:\n",
    "    t[n][w] = max(val[n-1]+t[n-1][w-wt[n-1]], t[n-1][w])\n",
    "else:\n",
    "    t[n][w] = t[n-1][w]"
   ]
  },
  {
   "cell_type": "code",
   "execution_count": 257,
   "metadata": {},
   "outputs": [
    {
     "data": {
      "text/plain": [
       "[[0, 0, 0, 0, 0, 0, 0, 0],\n",
       " [0, 0, 0, 0, 0, 0, 0, 0],\n",
       " [0, 0, 0, 0, 0, 0, 0, 0],\n",
       " [0, 0, 0, 0, 0, 0, 0, 0],\n",
       " [0, 0, 0, 0, 0, 0, 0, 0]]"
      ]
     },
     "execution_count": 257,
     "metadata": {},
     "output_type": "execute_result"
    }
   ],
   "source": [
    "#Initialize with base condition\n",
    "t = [[0]*(w+1) for i in range((len(wt)+1))]\n",
    "t"
   ]
  },
  {
   "cell_type": "code",
   "execution_count": 258,
   "metadata": {},
   "outputs": [],
   "source": [
    "for i in range(n+1):\n",
    "    for j in range(w+1):\n",
    "        if wt[i-1] <= j:\n",
    "            t[i][j] = max(val[i-1]+t[i-1][j-wt[i-1]], t[i-1][j])\n",
    "        else:\n",
    "            t[i][j] = t[i-1][j]"
   ]
  },
  {
   "cell_type": "code",
   "execution_count": 259,
   "metadata": {},
   "outputs": [
    {
     "data": {
      "text/plain": [
       "[[0, 0, 0, 0, 0, 7, 7, 7],\n",
       " [0, 1, 1, 1, 1, 7, 8, 8],\n",
       " [0, 1, 1, 4, 5, 7, 8, 8],\n",
       " [0, 1, 1, 4, 5, 7, 8, 9],\n",
       " [0, 1, 1, 4, 5, 7, 8, 9]]"
      ]
     },
     "execution_count": 259,
     "metadata": {},
     "output_type": "execute_result"
    }
   ],
   "source": [
    "t"
   ]
  },
  {
   "cell_type": "code",
   "execution_count": 260,
   "metadata": {},
   "outputs": [
    {
     "data": {
      "text/plain": [
       "9"
      ]
     },
     "execution_count": 260,
     "metadata": {},
     "output_type": "execute_result"
    }
   ],
   "source": [
    "t[i][j]"
   ]
  },
  {
   "cell_type": "raw",
   "metadata": {},
   "source": [
    "0/1 Knapsack Problem\n",
    "\n",
    "1. Subset sum problem\n",
    "2. equal sum Partition\n",
    "3. Count of Subset sum\n",
    "4. Minimum subset sum off\n",
    "5. Target sum\n",
    "6. No of subset with given diffrence\n"
   ]
  },
  {
   "cell_type": "markdown",
   "metadata": {},
   "source": [
    "### Subset sum Problem"
   ]
  },
  {
   "cell_type": "code",
   "execution_count": 149,
   "metadata": {},
   "outputs": [],
   "source": [
    "arr  = [2,3,7,8,10]\n",
    "req_sum = 6"
   ]
  },
  {
   "cell_type": "code",
   "execution_count": 150,
   "metadata": {},
   "outputs": [
    {
     "name": "stdout",
     "output_type": "stream",
     "text": [
      "[True, False, False, False, False, False, False]\n",
      "[True, False, False, False, False, False, False]\n",
      "[True, False, False, False, False, False, False]\n",
      "[True, False, False, False, False, False, False]\n",
      "[True, False, False, False, False, False, False]\n",
      "[True, False, False, False, False, False, False]\n"
     ]
    }
   ],
   "source": [
    "t = [[False]*(req_sum+1) for i in range((len(arr)+1))]\n",
    "for i in range(len(t)):\n",
    "    t[i][0] = True\n",
    "for i in t:\n",
    "    print(i)"
   ]
  },
  {
   "cell_type": "code",
   "execution_count": 151,
   "metadata": {},
   "outputs": [],
   "source": [
    "for i in range(1,len(arr)+1):\n",
    "    for j in range(1,req_sum+1):\n",
    "        if arr[i-1] <= j:\n",
    "            t[i][j] = t[i-1][j-arr[i-1]] or t[i-1][j]\n",
    "        else:\n",
    "            t[i][j] = t[i-1][j]\n"
   ]
  },
  {
   "cell_type": "code",
   "execution_count": 152,
   "metadata": {},
   "outputs": [
    {
     "name": "stdout",
     "output_type": "stream",
     "text": [
      "[True, False, False, False, False, False, False]\n",
      "[True, False, True, False, False, False, False]\n",
      "[True, False, True, True, False, True, False]\n",
      "[True, False, True, True, False, True, False]\n",
      "[True, False, True, True, False, True, False]\n",
      "[True, False, True, True, False, True, False]\n"
     ]
    }
   ],
   "source": [
    "for i in t:\n",
    "    print(i)"
   ]
  },
  {
   "cell_type": "code",
   "execution_count": 153,
   "metadata": {},
   "outputs": [],
   "source": [
    "def subset_sum(arr, n, req_sum):\n",
    "    t = [[False]*(req_sum+1) for i in range((len(arr)+1))]\n",
    "    for i in range(len(t)):\n",
    "        t[i][0] = True\n",
    "    for i in range(1,len(arr)+1):\n",
    "        for j in range(1,req_sum+1):\n",
    "            if arr[i-1] <= j:\n",
    "                t[i][j] = t[i-1][j-arr[i-1]] or t[i-1][j]\n",
    "            else:\n",
    "                t[i][j] = t[i-1][j]\n",
    "    return t[n][req_sum]"
   ]
  },
  {
   "cell_type": "code",
   "execution_count": 156,
   "metadata": {},
   "outputs": [
    {
     "data": {
      "text/plain": [
       "True"
      ]
     },
     "execution_count": 156,
     "metadata": {},
     "output_type": "execute_result"
    }
   ],
   "source": [
    "arr  = [2,3,7,8,10]\n",
    "req_sum = 5\n",
    "subset_sum(arr, len(arr) , req_sum)"
   ]
  },
  {
   "cell_type": "code",
   "execution_count": null,
   "metadata": {},
   "outputs": [],
   "source": []
  },
  {
   "cell_type": "raw",
   "metadata": {},
   "source": [
    "def isSubsetSum(set, n, sum):\n",
    "     \n",
    "    subset =([[False for i in range(sum + 1)] \n",
    "            for i in range(n + 1)])\n",
    "    \n",
    "    for i in range(n + 1):\n",
    "        subset[i][0] = True\n",
    "         \n",
    "    for i in range(1, sum + 1):\n",
    "         subset[0][i]= False\n",
    "             \n",
    "    for i in subset:\n",
    "        print(i)\n",
    "\n",
    "    for i in range(1, n + 1):\n",
    "        for j in range(1, sum + 1):\n",
    "            if j<set[i-1]:\n",
    "                subset[i][j] = subset[i-1][j]\n",
    "            if j>= set[i-1]:\n",
    "                subset[i][j] = (subset[i-1][j] or\n",
    "                                subset[i - 1][j-set[i-1]])\n",
    "\n",
    "    return subset[n][sum]"
   ]
  },
  {
   "cell_type": "raw",
   "metadata": {},
   "source": [
    "isSubsetSum(arr, len(arr) , req_sum)\n",
    "\n",
    "[True, False, False, False, False, False, False]\n",
    "[True, False, False, False, False, False, False]\n",
    "[True, False, False, False, False, False, False]\n",
    "[True, False, False, False, False, False, False]\n",
    "[True, False, False, False, False, False, False]\n",
    "[True, False, False, False, False, False, False]\n",
    "False"
   ]
  },
  {
   "cell_type": "code",
   "execution_count": null,
   "metadata": {},
   "outputs": [],
   "source": []
  },
  {
   "cell_type": "markdown",
   "metadata": {},
   "source": [
    "### Equal Sum Partition"
   ]
  },
  {
   "cell_type": "raw",
   "metadata": {},
   "source": []
  },
  {
   "cell_type": "code",
   "execution_count": 158,
   "metadata": {},
   "outputs": [],
   "source": [
    "def equal_sum_partition(arr):\n",
    "    subset = sum(arr)\n",
    "    if subset%2 == 0:\n",
    "        subset = subset//2\n",
    "        return subset_sum(arr, len(arr) , subset)\n",
    "    else:\n",
    "        return False"
   ]
  },
  {
   "cell_type": "code",
   "execution_count": 161,
   "metadata": {},
   "outputs": [
    {
     "data": {
      "text/plain": [
       "False"
      ]
     },
     "execution_count": 161,
     "metadata": {},
     "output_type": "execute_result"
    }
   ],
   "source": [
    "arr = [1,5,11,5]  \n",
    "equal_sum_partition(arr)"
   ]
  },
  {
   "cell_type": "markdown",
   "metadata": {},
   "source": [
    "### Count of subset sum with a given sum "
   ]
  },
  {
   "cell_type": "code",
   "execution_count": 169,
   "metadata": {},
   "outputs": [],
   "source": [
    "def count_subset_sum(arr, n, req_sum):\n",
    "    t = [[0]*(req_sum+1) for i in range((len(arr)+1))]\n",
    "    for i in range(len(t)):\n",
    "        t[i][0] = 1\n",
    "    for i in range(1,len(arr)+1):\n",
    "        for j in range(1,req_sum+1):\n",
    "            if arr[i-1] <= j:\n",
    "                t[i][j] = t[i-1][j-arr[i-1]] + t[i-1][j]\n",
    "            else:\n",
    "                t[i][j] = t[i-1][j]\n",
    "    return t[n][req_sum]"
   ]
  },
  {
   "cell_type": "code",
   "execution_count": 170,
   "metadata": {},
   "outputs": [
    {
     "data": {
      "text/plain": [
       "4"
      ]
     },
     "execution_count": 170,
     "metadata": {},
     "output_type": "execute_result"
    }
   ],
   "source": [
    "arr  = [2,3,5,7,8,10]\n",
    "req_sum = 10\n",
    "count_subset_sum(arr,len(arr),req_sum)"
   ]
  },
  {
   "cell_type": "markdown",
   "metadata": {},
   "source": [
    "### Minimum Subset Sum Diffrence"
   ]
  },
  {
   "cell_type": "code",
   "execution_count": 262,
   "metadata": {},
   "outputs": [],
   "source": [
    "def min_subset_diff(arr, n, req_sum):\n",
    "    t = [[False]*(req_sum+1) for i in range((len(arr)+1))]\n",
    "    for i in range(len(t)):\n",
    "        t[i][0] = True\n",
    "    for i in range(1,len(arr)+1):\n",
    "        for j in range(1,req_sum+1):\n",
    "            if arr[i-1] <= j:\n",
    "                t[i][j] = t[i-1][j-arr[i-1]] or t[i-1][j]\n",
    "            else:\n",
    "                t[i][j] = t[i-1][j]\n",
    "    return t[n]"
   ]
  },
  {
   "cell_type": "code",
   "execution_count": 269,
   "metadata": {},
   "outputs": [
    {
     "name": "stdout",
     "output_type": "stream",
     "text": [
      "[0, 1, 2, 3, 7, 8, 9, 10]\n"
     ]
    }
   ],
   "source": [
    "# arr = [1,6,11,5]\n",
    "arr = [1,2,7]\n",
    "last_row = min_subset_diff(arr, len(arr), sum(arr))\n",
    "last_row = [i for i in range(len(last_row)) if last_row[i]==True]\n",
    "print(last_row)"
   ]
  },
  {
   "cell_type": "code",
   "execution_count": 270,
   "metadata": {},
   "outputs": [
    {
     "data": {
      "text/plain": [
       "4"
      ]
     },
     "execution_count": 270,
     "metadata": {},
     "output_type": "execute_result"
    }
   ],
   "source": [
    "last_row= last_row[:len(last_row)//2]\n",
    "sum(arr) - 2*last_row[-1]"
   ]
  },
  {
   "cell_type": "markdown",
   "metadata": {},
   "source": [
    "### Minimum Subset Sum Diffrence"
   ]
  },
  {
   "cell_type": "code",
   "execution_count": 287,
   "metadata": {},
   "outputs": [],
   "source": [
    "def min_subset_diff(arr, n, req_sum):\n",
    "    t = [[False]*(req_sum+1) for i in range((len(arr)+1))]\n",
    "    for i in range(len(t)):\n",
    "        t[i][0] = True\n",
    "    for i in range(1,len(arr)+1):\n",
    "        for j in range(1,req_sum+1):\n",
    "            if arr[i-1] <= j:\n",
    "                t[i][j] = t[i-1][j-arr[i-1]] or t[i-1][j]\n",
    "            else:\n",
    "                t[i][j] = t[i-1][j]\n",
    "\n",
    "    last_row= t[n]\n",
    "    last_row = [i for i in range(len(last_row)) if last_row[i]==True]\n",
    "    print(last_row)-\n",
    "    last_row= last_row[:len(last_row)//2]\n",
    "    return sum(arr) - 2*last_row[-1]\n",
    "    "
   ]
  },
  {
   "cell_type": "code",
   "execution_count": 288,
   "metadata": {
    "scrolled": true
   },
   "outputs": [
    {
     "name": "stdout",
     "output_type": "stream",
     "text": [
      "[0, 1, 5, 6, 7, 11, 12, 16, 17, 18, 22, 23]\n"
     ]
    },
    {
     "data": {
      "text/plain": [
       "1"
      ]
     },
     "execution_count": 288,
     "metadata": {},
     "output_type": "execute_result"
    }
   ],
   "source": [
    "arr = [1,6,11,5]\n",
    "min_subset_diff(arr, len(arr) , sum(arr))"
   ]
  },
  {
   "cell_type": "markdown",
   "metadata": {},
   "source": [
    "### Count the number of subset with given diffrence"
   ]
  },
  {
   "cell_type": "code",
   "execution_count": 20,
   "metadata": {},
   "outputs": [],
   "source": [
    "arr = [1,1,2,3]\n",
    "req_sum = 1"
   ]
  },
  {
   "cell_type": "code",
   "execution_count": 32,
   "metadata": {},
   "outputs": [],
   "source": [
    "def count_subset_sum(arr, n, req_sum):\n",
    "    t = [[0]*(req_sum+1) for i in range((len(arr)+1))]\n",
    "    for i in range(len(t)):\n",
    "        t[i][0] = 1\n",
    "    for i in range(1,len(arr)+1):\n",
    "        for j in range(1,req_sum+1):\n",
    "            if arr[i-1] <= j:\n",
    "                t[i][j] = t[i-1][j-arr[i-1]] + t[i-1][j]\n",
    "            else:\n",
    "                t[i][j] = t[i-1][j]\n",
    "    return t[n][req_sum]"
   ]
  },
  {
   "cell_type": "code",
   "execution_count": 36,
   "metadata": {},
   "outputs": [
    {
     "data": {
      "text/plain": [
       "3"
      ]
     },
     "execution_count": 36,
     "metadata": {},
     "output_type": "execute_result"
    }
   ],
   "source": [
    "count_subset_sum(arr, len(arr), (sum(arr)+req_sum)//2)"
   ]
  },
  {
   "cell_type": "markdown",
   "metadata": {},
   "source": [
    "### Target Sum"
   ]
  },
  {
   "cell_type": "code",
   "execution_count": 30,
   "metadata": {},
   "outputs": [],
   "source": [
    "arr = [1,1,2,3]\n",
    "req_sum = 1\n",
    "# +1 -1 -2 +3\n",
    "# -1 +1 -2 +3\n",
    "# +1 +1 +2 -3"
   ]
  },
  {
   "cell_type": "code",
   "execution_count": 37,
   "metadata": {},
   "outputs": [
    {
     "data": {
      "text/plain": [
       "3"
      ]
     },
     "execution_count": 37,
     "metadata": {},
     "output_type": "execute_result"
    }
   ],
   "source": [
    "count_subset_sum(arr, len(arr), (sum(arr)+req_sum)//2)"
   ]
  },
  {
   "cell_type": "code",
   "execution_count": null,
   "metadata": {},
   "outputs": [],
   "source": []
  },
  {
   "cell_type": "code",
   "execution_count": null,
   "metadata": {},
   "outputs": [],
   "source": []
  },
  {
   "cell_type": "code",
   "execution_count": null,
   "metadata": {},
   "outputs": [],
   "source": []
  },
  {
   "cell_type": "code",
   "execution_count": null,
   "metadata": {},
   "outputs": [],
   "source": []
  },
  {
   "cell_type": "code",
   "execution_count": null,
   "metadata": {},
   "outputs": [],
   "source": []
  },
  {
   "cell_type": "markdown",
   "metadata": {},
   "source": [
    "# Unbounded Knapsack"
   ]
  },
  {
   "cell_type": "raw",
   "metadata": {},
   "source": [
    "Multiple Ocurrences of a Same item\n",
    "\n",
    "1. Rod Cutting\n",
    "2. Coin Change   [Max no of ways]\n",
    "3. Coin Change 2 [Min no of coins]\n",
    "4. Maximum Ribbion Cut\n",
    "\n",
    "If preffered - Can be chosen multiple times\n",
    "If not  - PROCCESED\n"
   ]
  },
  {
   "cell_type": "raw",
   "metadata": {},
   "source": [
    "In Knapsack irrespective of whether the item is taken or not - call knapsack(n-1)\n",
    "In unbounded if item is not taken call with n-1\n",
    "But if item is taken - call with n ... caus the item can be taken once again\n",
    "\n",
    "\n",
    "for i in range(n+1):\n",
    "    for j in range(w+1):\n",
    "        if wt[i-1] <= j:\n",
    "            # Instead of t[i-1] \n",
    "            t[i][j] = max(val[i-1]+t[i][j-wt[i-1]], t[i-1][j])\n",
    "        else:\n",
    "            t[i][j] = t[i-1][j]"
   ]
  },
  {
   "cell_type": "code",
   "execution_count": null,
   "metadata": {},
   "outputs": [],
   "source": []
  },
  {
   "cell_type": "markdown",
   "metadata": {},
   "source": [
    "### Rod Cutting Problem"
   ]
  },
  {
   "cell_type": "raw",
   "metadata": {},
   "source": [
    "length = [1, 2, 3, 4, 5 ,6 ,7 ,8]\n",
    "price  = [1, 5, 8, 9,10,17,17,20]\n",
    "n = 7\n",
    "\n",
    "Problem - Given a rod with length l - cut the rod by as many number of cuts as possible with any length such that the sum of price of all cuts is maximum\n"
   ]
  },
  {
   "cell_type": "code",
   "execution_count": 58,
   "metadata": {},
   "outputs": [],
   "source": [
    "length = [1, 2, 3, 4]\n",
    "price  = [5, 6, 8, 8]\n",
    "n = 4"
   ]
  },
  {
   "cell_type": "code",
   "execution_count": 59,
   "metadata": {},
   "outputs": [],
   "source": [
    "t = [[0]*(len(length)+1) for i in range(n+1)]\n",
    "for i in range(n+1):\n",
    "    for j in range(len(length)+1):\n",
    "        if length[i-1] <= j:\n",
    "            t[i][j] = max(price[i-1]+t[i][j-length[i-1]], t[i-1][j])\n",
    "        else:\n",
    "            t[i][j] = t[i-1][j]"
   ]
  },
  {
   "cell_type": "code",
   "execution_count": 60,
   "metadata": {},
   "outputs": [
    {
     "name": "stdout",
     "output_type": "stream",
     "text": [
      "[0, 0, 0, 0, 8]\n",
      "[0, 5, 10, 15, 20]\n",
      "[0, 5, 10, 15, 20]\n",
      "[0, 5, 10, 15, 20]\n",
      "[0, 5, 10, 15, 20]\n"
     ]
    }
   ],
   "source": [
    "for i in t:\n",
    "    print(i)"
   ]
  },
  {
   "cell_type": "markdown",
   "metadata": {},
   "source": [
    "### Coin and Change"
   ]
  },
  {
   "cell_type": "code",
   "execution_count": 153,
   "metadata": {},
   "outputs": [],
   "source": [
    "# arr = [1,2,3]\n",
    "arr = [1,2,5]\n",
    "# req_sum = 5\n",
    "req_sum = 11\n",
    "\n",
    "# 1 1 1 1 ---11\n",
    "# 2 2 2 2 2 1\n",
    "# 2 2 2 2 11 1\n",
    "# 2 2 2 11 11 1\n",
    "# 2 2 11 11 11 1\n",
    "# 2 11 11 11 11 1\n",
    "# 5 5 1\n",
    "# 5 11111 1\n",
    "# 5 1112 1\n",
    "# 5 1 2 2 1\n",
    "# 5 2 2 2\n"
   ]
  },
  {
   "cell_type": "markdown",
   "metadata": {},
   "source": [
    "### Coin and Change [All Possible Outcome]"
   ]
  },
  {
   "cell_type": "code",
   "execution_count": 154,
   "metadata": {},
   "outputs": [],
   "source": [
    "def count_subset_sum(arr, n, req_sum):\n",
    "    t = [[0]*(req_sum+1) for i in range((len(arr)+1))]\n",
    "    for i in range(len(t)):\n",
    "        t[i][0] = 1\n",
    "    for i in range(1,len(arr)+1):\n",
    "        for j in range(1,req_sum+1):\n",
    "            if arr[i-1] <= j:\n",
    "                t[i][j] = t[i][j-arr[i-1]] + t[i-1][j]\n",
    "            else:\n",
    "                t[i][j] = t[i-1][j]\n",
    "    return t"
   ]
  },
  {
   "cell_type": "code",
   "execution_count": 155,
   "metadata": {},
   "outputs": [],
   "source": [
    "# count_subset_sum(arr, len(arr) , req_sum)"
   ]
  },
  {
   "cell_type": "markdown",
   "metadata": {},
   "source": [
    "### Coin and Change [Minimum No. of Coins]"
   ]
  },
  {
   "cell_type": "code",
   "execution_count": 177,
   "metadata": {},
   "outputs": [],
   "source": [
    "def count_subset_sum(arr, n, req_sum):\n",
    "    t = [[0]*(req_sum+1) for i in range((len(arr)+1))]\n",
    "    for i in range(len(t)):\n",
    "        t[0][i] = 10000\n",
    "    for i in range(1,2):\n",
    "        for j in range(1,req_sum+1):\n",
    "            if j%arr[i-1] == 0:\n",
    "                t[i][j] = j//arr[i-1]\n",
    "            else:\n",
    "                t[i][j] = 10000\n",
    "                \n",
    "    for i in range(2,len(arr)+1):\n",
    "        for j in range(1,req_sum+1):\n",
    "            if arr[i-1] <= j:\n",
    "                t[i][j] = min(t[i][j-arr[i-1]]+1, t[i-1][j])\n",
    "            else:\n",
    "                t[i][j] = t[i-1][j]\n",
    "    return t\n"
   ]
  },
  {
   "cell_type": "code",
   "execution_count": 179,
   "metadata": {},
   "outputs": [
    {
     "data": {
      "text/plain": [
       "[[10000, 10000, 10000, 10000, 0, 0, 0, 0, 0, 0, 0, 0],\n",
       " [0, 1, 2, 3, 4, 5, 6, 7, 8, 9, 10, 11],\n",
       " [0, 1, 1, 2, 2, 3, 3, 4, 4, 5, 5, 6],\n",
       " [0, 1, 1, 2, 2, 1, 2, 2, 3, 3, 2, 3]]"
      ]
     },
     "execution_count": 179,
     "metadata": {},
     "output_type": "execute_result"
    }
   ],
   "source": [
    "arr = [1,2,5]\n",
    "req_sum = 11\n",
    "count_subset_sum(arr, len(arr) , req_sum)"
   ]
  },
  {
   "cell_type": "code",
   "execution_count": null,
   "metadata": {},
   "outputs": [],
   "source": []
  },
  {
   "cell_type": "markdown",
   "metadata": {},
   "source": [
    "### Longest Common Subsequence"
   ]
  },
  {
   "cell_type": "raw",
   "metadata": {},
   "source": [
    "1.  Largest Common Substring\n",
    "2.  Print LCS\n",
    "3.  Shortest Common Supersequence\n",
    "4.  Print SCS\n",
    "5.  Minimum Number of insertion and deletion a->b\n",
    "6.  Largest repeating subsequence\n",
    "7.  Length of Largest Subsequence of \n",
    "8.  Subsequence Pattern Matching\n",
    "9.  Count how many times A appear as a subsequence in B\n",
    "10. Largest Palindrome Sequence\n",
    "11. Largest Palindrome Substring\n",
    "12. Count of Palindrome Substring\n",
    "13. Minimum number of Deletion in a String to make it a palindrome\n",
    "14. Minimum number of Inserion in a String to make it palindrome "
   ]
  },
  {
   "cell_type": "raw",
   "metadata": {},
   "source": [
    "s1 abedgh\n",
    "s2 abcdehr\n",
    "\n",
    "LCS -  abdh\n",
    "\n",
    "\n",
    "Approach : \n",
    "\n",
    "compare last char of both strings\n",
    "if Last char matches - increase count .. call LCS(n-1,m-1)\n",
    "\n",
    "else:\n",
    "call max( LCS(n-1 , m) , LCS(n, m-1) )"
   ]
  },
  {
   "cell_type": "code",
   "execution_count": 180,
   "metadata": {},
   "outputs": [],
   "source": [
    "def lcs(x,y,n,m):\n",
    "    if n == 0 or m==0:\n",
    "        return 0\n",
    "    if x[n-1] == y[m-1]:\n",
    "        return 1+ lcs(x,y,n-1,m-1)\n",
    "    else:\n",
    "        return max( lcs(x,y,n-1,m) , lcs(x,y,n,m-1) )"
   ]
  },
  {
   "cell_type": "markdown",
   "metadata": {},
   "source": [
    "### Memoization"
   ]
  },
  {
   "cell_type": "code",
   "execution_count": 200,
   "metadata": {},
   "outputs": [
    {
     "data": {
      "text/plain": [
       "4"
      ]
     },
     "execution_count": 200,
     "metadata": {},
     "output_type": "execute_result"
    }
   ],
   "source": [
    "s1  = \"abedgh\"\n",
    "s2  = \"abcdehr\"\n",
    "\n",
    "lcs(s1,s2,len(s1),len(s2))"
   ]
  },
  {
   "cell_type": "code",
   "execution_count": 201,
   "metadata": {},
   "outputs": [
    {
     "data": {
      "text/plain": [
       "[[-1, -1, -1, -1, -1, -1, -1, -1],\n",
       " [-1, -1, -1, -1, -1, -1, -1, -1],\n",
       " [-1, -1, -1, -1, -1, -1, -1, -1],\n",
       " [-1, -1, -1, -1, -1, -1, -1, -1],\n",
       " [-1, -1, -1, -1, -1, -1, -1, -1],\n",
       " [-1, -1, -1, -1, -1, -1, -1, -1],\n",
       " [-1, -1, -1, -1, -1, -1, -1, -1]]"
      ]
     },
     "execution_count": 201,
     "metadata": {},
     "output_type": "execute_result"
    }
   ],
   "source": [
    "t = [[-1]*(len(s2)+1) for i in range((len(s1)+1))]\n",
    "t"
   ]
  },
  {
   "cell_type": "code",
   "execution_count": 202,
   "metadata": {},
   "outputs": [],
   "source": [
    "def lcs(x,y,n,m):\n",
    "    global t\n",
    "    \n",
    "    if n == 0 or m==0:\n",
    "        return 0\n",
    "    if t[n][m] != -1:\n",
    "        return t[n][m]\n",
    "\n",
    "    if x[n-1] == y[m-1]:\n",
    "        t[n][m] = 1+ lcs(x,y,n-1,m-1)\n",
    "        return t[n][m]\n",
    "    else:\n",
    "        t[n][m] = max( lcs(x,y,n-1,m) , lcs(x,y,n,m-1) )\n",
    "        return t[n][m]"
   ]
  },
  {
   "cell_type": "code",
   "execution_count": 203,
   "metadata": {},
   "outputs": [
    {
     "data": {
      "text/plain": [
       "4"
      ]
     },
     "execution_count": 203,
     "metadata": {},
     "output_type": "execute_result"
    }
   ],
   "source": [
    "lcs(s1,s2,len(s1),len(s2))"
   ]
  },
  {
   "cell_type": "code",
   "execution_count": 204,
   "metadata": {},
   "outputs": [
    {
     "data": {
      "text/plain": [
       "[[-1, -1, -1, -1, -1, -1, -1, -1],\n",
       " [-1, 1, 1, 1, 1, 1, 1, 1],\n",
       " [-1, 1, 2, 2, 2, 2, 2, 2],\n",
       " [-1, 1, 2, 2, -1, 3, 3, 3],\n",
       " [-1, 1, 2, 2, 3, 3, 3, 3],\n",
       " [-1, 1, 2, 2, 3, 3, 3, 3],\n",
       " [-1, -1, -1, -1, -1, -1, 4, 4]]"
      ]
     },
     "execution_count": 204,
     "metadata": {},
     "output_type": "execute_result"
    }
   ],
   "source": [
    "t"
   ]
  },
  {
   "cell_type": "markdown",
   "metadata": {},
   "source": [
    "### Top down Approach"
   ]
  },
  {
   "cell_type": "code",
   "execution_count": 205,
   "metadata": {},
   "outputs": [
    {
     "data": {
      "text/plain": [
       "[[0, 0, 0, 0, 0, 0, 0, 0],\n",
       " [0, 1, 1, 1, 1, 1, 1, 1],\n",
       " [0, 1, 2, 2, 2, 2, 2, 2],\n",
       " [0, 1, 2, 2, 2, 3, 3, 3],\n",
       " [0, 1, 2, 2, 3, 3, 3, 3],\n",
       " [0, 1, 2, 2, 3, 3, 3, 3],\n",
       " [0, 1, 2, 2, 3, 3, 4, 4]]"
      ]
     },
     "execution_count": 205,
     "metadata": {},
     "output_type": "execute_result"
    }
   ],
   "source": [
    "s1  = \"abedgh\"\n",
    "s2  = \"abcdehr\"\n",
    "\n",
    "n = len(s1)\n",
    "m = len(s2)\n",
    "\n",
    "t = [[0]*(m+1) for i in range((n+1))]\n",
    "\n",
    "for i in range(1,n+1):\n",
    "    \n",
    "    for j in range(1,m+1):\n",
    "        if s1[i-1] == s2[j-1]:\n",
    "            t[i][j] = 1+t[i-1][j-1]\n",
    "        else:\n",
    "            t[i][j] = max(t[i-1][j] , t[i][j-1])\n",
    "t"
   ]
  },
  {
   "cell_type": "markdown",
   "metadata": {},
   "source": [
    "### Longest Common Substring"
   ]
  },
  {
   "cell_type": "code",
   "execution_count": 261,
   "metadata": {},
   "outputs": [
    {
     "data": {
      "text/plain": [
       "[[0, 0, 0, 0, 0, 0, 0],\n",
       " [0, 1, 0, 0, 0, 0, 0],\n",
       " [0, 0, 2, 0, 0, 0, 0],\n",
       " [0, 0, 0, 0, 0, 1, 0],\n",
       " [0, 0, 0, 0, 1, 0, 0],\n",
       " [0, 0, 0, 0, 0, 0, 0],\n",
       " [0, 0, 0, 0, 0, 0, 1]]"
      ]
     },
     "execution_count": 261,
     "metadata": {},
     "output_type": "execute_result"
    }
   ],
   "source": [
    "s1  = \"abedgh\"\n",
    "s2  = \"abcdeh\"\n",
    "\n",
    "n = len(s1)\n",
    "m = len(s2)\n",
    "\n",
    "t = [[0]*(m+1) for i in range((n+1))]\n",
    "\n",
    "for i in range(1,n+1):\n",
    "    for j in range(1,m+1):\n",
    "        if s1[i-1] == s2[j-1]:\n",
    "            t[i][j] = 1+t[i-1][j-1]\n",
    "        else:\n",
    "            t[i][j] = 0\n",
    "t"
   ]
  },
  {
   "cell_type": "markdown",
   "metadata": {},
   "source": [
    "### Print LCS"
   ]
  },
  {
   "cell_type": "code",
   "execution_count": 242,
   "metadata": {},
   "outputs": [
    {
     "data": {
      "text/plain": [
       "[[0, 0, 0, 0, 0, 0, 0, 0],\n",
       " [0, 1, 1, 1, 1, 1, 1, 1],\n",
       " [0, 1, 2, 2, 2, 2, 2, 2],\n",
       " [0, 1, 2, 2, 2, 3, 3, 3],\n",
       " [0, 1, 2, 2, 3, 3, 3, 3],\n",
       " [0, 1, 2, 2, 3, 3, 3, 3],\n",
       " [0, 1, 2, 2, 3, 3, 4, 4]]"
      ]
     },
     "execution_count": 242,
     "metadata": {},
     "output_type": "execute_result"
    }
   ],
   "source": [
    "s1  = \"abedgh\"\n",
    "s2  = \"abcdehr\"\n",
    "\n",
    "\n",
    "n = len(s1)\n",
    "m = len(s2)\n",
    "\n",
    "t = [[0]*(m+1) for i in range((n+1))]\n",
    "\n",
    "for i in range(1,n+1):\n",
    "    for j in range(1,m+1):\n",
    "        if s1[i-1] == s2[j-1]:\n",
    "            t[i][j] = 1+t[i-1][j-1]\n",
    "        else:\n",
    "            t[i][j] = max(t[i-1][j] , t[i][j-1])\n",
    "t"
   ]
  },
  {
   "cell_type": "markdown",
   "metadata": {},
   "source": [
    "### Print LCS"
   ]
  },
  {
   "cell_type": "code",
   "execution_count": 243,
   "metadata": {},
   "outputs": [
    {
     "data": {
      "text/plain": [
       "'abeh'"
      ]
     },
     "execution_count": 243,
     "metadata": {},
     "output_type": "execute_result"
    }
   ],
   "source": [
    "\n",
    "s = \"\"\n",
    "i = len(s1)\n",
    "j = len(s2)\n",
    "\n",
    "while i>0 and j>0:\n",
    "    if s1[i-1] == s2[j-1]:\n",
    "#         print(s1[i-1])\n",
    "        s+= s1[i-1]\n",
    "        i -=1\n",
    "        j -=1\n",
    "    else:\n",
    "        if  t[i][j-1] > t[i-1][j]:\n",
    "            j -=1\n",
    "        else:\n",
    "            i -=1\n",
    "s[::-1]"
   ]
  },
  {
   "cell_type": "markdown",
   "metadata": {},
   "source": [
    "### Shortest Common Super Sequence"
   ]
  },
  {
   "cell_type": "raw",
   "metadata": {},
   "source": [
    "s1 = \"AGGTAB\"\n",
    "s2 = \"GXTXAYB\"\n",
    "\n",
    "AGGXTAYB"
   ]
  },
  {
   "cell_type": "code",
   "execution_count": 244,
   "metadata": {},
   "outputs": [
    {
     "data": {
      "text/plain": [
       "[[0, 0, 0, 0, 0, 0, 0, 0],\n",
       " [0, 0, 0, 0, 0, 1, 1, 1],\n",
       " [0, 1, 1, 1, 1, 1, 1, 1],\n",
       " [0, 1, 1, 1, 1, 1, 1, 1],\n",
       " [0, 1, 1, 2, 2, 2, 2, 2],\n",
       " [0, 1, 1, 2, 2, 3, 3, 3],\n",
       " [0, 1, 1, 2, 2, 3, 3, 4]]"
      ]
     },
     "execution_count": 244,
     "metadata": {},
     "output_type": "execute_result"
    }
   ],
   "source": [
    "s1 = \"AGGTAB\"\n",
    "s2 = \"GXTXAYB\"\n",
    "\n",
    "n = len(s1)\n",
    "m = len(s2)\n",
    "\n",
    "t = [[0]*(m+1) for i in range((n+1))]\n",
    "\n",
    "for i in range(1,n+1):\n",
    "    for j in range(1,m+1):\n",
    "        if s1[i-1] == s2[j-1]:\n",
    "            t[i][j] = 1+t[i-1][j-1]\n",
    "        else:\n",
    "            t[i][j] = max(t[i-1][j] , t[i][j-1])\n",
    "t"
   ]
  },
  {
   "cell_type": "code",
   "execution_count": 245,
   "metadata": {},
   "outputs": [
    {
     "data": {
      "text/plain": [
       "'GTAB'"
      ]
     },
     "execution_count": 245,
     "metadata": {},
     "output_type": "execute_result"
    }
   ],
   "source": [
    "s = \"\"\n",
    "i = len(s1)\n",
    "j = len(s2)\n",
    "\n",
    "while i>0 and j>0:\n",
    "    if s1[i-1] == s2[j-1]:\n",
    "#         print(s1[i-1])\n",
    "        s+= s1[i-1]\n",
    "        i -=1\n",
    "        j -=1\n",
    "    else:\n",
    "        if  t[i][j-1] > t[i-1][j]:\n",
    "            j -=1\n",
    "        else:\n",
    "            i -=1\n",
    "s[::-1]"
   ]
  },
  {
   "cell_type": "code",
   "execution_count": 249,
   "metadata": {},
   "outputs": [
    {
     "data": {
      "text/plain": [
       "9"
      ]
     },
     "execution_count": 249,
     "metadata": {},
     "output_type": "execute_result"
    }
   ],
   "source": [
    "len(s1) + len(s2) -4"
   ]
  },
  {
   "cell_type": "raw",
   "metadata": {},
   "source": [
    "\n",
    "Shortest Common Super Sequence\n",
    "s1 = \"AGGTAB\"       s2 = \"GXTXAYB\"\n",
    "AGGXTAYB\n",
    "\n",
    "len(s1) + len(s2) - lcs(s1,s2,n,m)\n",
    "------------------------------------\n",
    "\n",
    "\n",
    "Minimum no of Insertion and Deletion\n",
    "s1 = \"heap\"         s2 = \"pea\"\n",
    "       \\--> ea (lcs) --/\n",
    "\n",
    "len(s1) + len(s2) - 2(lcs)\n",
    "------------------------------------\n",
    "\n",
    "\n",
    "Longest Palindrome Subsequence\n",
    "s = \"agbcba\"\n",
    "\n",
    "lcs(s,s[::-1],n,n)\n",
    "------------------------------------\n",
    "\n",
    "\n",
    "Min number of deletion to make Palindrome\n",
    "s = \"agbcba\"\n",
    "\n",
    "ie> max palindrome\n",
    "\n",
    "Shortest Common Super Sequence\n",
    "s1 = \"AGGTAB\"       s2 = \"GXTXAYB\"\n",
    "AGGXTAYB\n",
    "\n",
    "len(s1) + len(s2) - lcs(s1,s2,n,m)\n",
    "------------------------------------\n",
    "\n",
    "\n",
    "Minimum no of Insertion and Deletion\n",
    "s1 = \"heap\"         s2 = \"pea\"\n",
    "       \\--> ea (lcs) --/\n",
    "\n",
    "len(s1) + len(s2) - 2(lcs)\n",
    "------------------------------------\n",
    "\n",
    "\n",
    "Longest Palindrome Subsequence\n",
    "s = \"agbcba\"\n",
    "\n",
    "lcs(s,s[::-1],n,n)\n",
    "------------------------------------\n",
    "\n",
    "\n",
    "Min number of deletion to make Palindrome\n",
    "s = \"agbcba\"\n",
    "\n",
    "ie> max palindrome\n",
    "\n",
    "len(s) - lcs(s,s[::-1],n,n)\n",
    "------------------------------------\n",
    "\n"
   ]
  },
  {
   "cell_type": "code",
   "execution_count": null,
   "metadata": {},
   "outputs": [],
   "source": []
  },
  {
   "cell_type": "code",
   "execution_count": null,
   "metadata": {},
   "outputs": [],
   "source": []
  },
  {
   "cell_type": "code",
   "execution_count": null,
   "metadata": {},
   "outputs": [],
   "source": []
  },
  {
   "cell_type": "markdown",
   "metadata": {},
   "source": [
    "### Largest Sum Contiguous Subarray"
   ]
  },
  {
   "cell_type": "code",
   "execution_count": 267,
   "metadata": {},
   "outputs": [],
   "source": [
    "from sys import maxsize\n",
    "def maxSubArraySum(a,size):\n",
    "\n",
    "    max_so_far = -maxsize - 1\n",
    "    max_ending_here = 0\n",
    "\n",
    "    for i in range(0, size):\n",
    "        max_ending_here = max_ending_here + a[i]\n",
    "        if (max_so_far < max_ending_here):\n",
    "            max_so_far = max_ending_here\n",
    "\n",
    "        if max_ending_here < 0:\n",
    "            max_ending_here = 0\n",
    "    return max_so_far"
   ]
  },
  {
   "cell_type": "code",
   "execution_count": 268,
   "metadata": {},
   "outputs": [
    {
     "data": {
      "text/plain": [
       "-3"
      ]
     },
     "execution_count": 268,
     "metadata": {},
     "output_type": "execute_result"
    }
   ],
   "source": [
    "a = [-13, -3, -25, -20, -3, -16, -23, -12, -5, -22, -15, -4, -7]\n",
    "maxSubArraySum(a,len(a))"
   ]
  },
  {
   "cell_type": "code",
   "execution_count": null,
   "metadata": {},
   "outputs": [],
   "source": []
  },
  {
   "cell_type": "markdown",
   "metadata": {},
   "source": [
    "### Maximum Product Subarray"
   ]
  },
  {
   "cell_type": "code",
   "execution_count": 269,
   "metadata": {},
   "outputs": [],
   "source": [
    "def maxSubarrayProduct(arr, n):\n",
    "\n",
    "    result = arr[0] \n",
    "    for i in range(n):\n",
    "     \n",
    "        mul = arr[i]\n",
    "        \n",
    "        for j in range(i + 1, n):\n",
    "            result = max(result, mul)\n",
    "            mul *= arr[j]\n",
    "         \n",
    "        result = max(result, mul)\n",
    "     \n",
    "    return result"
   ]
  },
  {
   "cell_type": "code",
   "execution_count": 270,
   "metadata": {},
   "outputs": [
    {
     "data": {
      "text/plain": [
       "112"
      ]
     },
     "execution_count": 270,
     "metadata": {},
     "output_type": "execute_result"
    }
   ],
   "source": [
    "\n",
    "arr = [ 1, -2, -3, 0, 7, -8, -2 ]\n",
    "n = len(arr)\n",
    "maxSubarrayProduct(arr, n)"
   ]
  },
  {
   "cell_type": "code",
   "execution_count": null,
   "metadata": {},
   "outputs": [],
   "source": []
  }
 ],
 "metadata": {
  "kernelspec": {
   "display_name": "Python 3",
   "language": "python",
   "name": "python3"
  },
  "language_info": {
   "codemirror_mode": {
    "name": "ipython",
    "version": 3
   },
   "file_extension": ".py",
   "mimetype": "text/x-python",
   "name": "python",
   "nbconvert_exporter": "python",
   "pygments_lexer": "ipython3",
   "version": "3.7.4"
  }
 },
 "nbformat": 4,
 "nbformat_minor": 2
}
